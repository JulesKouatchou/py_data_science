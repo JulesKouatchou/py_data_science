{
 "cells": [
  {
   "cell_type": "markdown",
   "metadata": {},
   "source": [
    "# <font color=\"red\"> Introduction to Turtle</font>"
   ]
  },
  {
   "cell_type": "markdown",
   "metadata": {},
   "source": []
  },
  {
   "cell_type": "markdown",
   "metadata": {},
   "source": [
    "`Turtle` is a Python feature like a drawing board, which lets us command a turtle to draw all over it! "
   ]
  },
  {
   "cell_type": "code",
   "execution_count": null,
   "metadata": {},
   "outputs": [],
   "source": []
  },
  {
   "cell_type": "markdown",
   "metadata": {},
   "source": [
    "| METHOD |\tPARAMETER\t| DESCRIPTION |\n",
    "| --- | --- | --- |\n",
    "| Turtle()\t| None\t| Creates and returns a new tutrle object| \n",
    "| forward()\t | amount\t | Moves the turtle forward by the specified amount| \n",
    "| backward()\t | amount\t | Moves the turtle backward by the specified amount| \n",
    "| right()\t | angle\t | Turns the turtle clockwise | \n",
    "| left()\t | angle\t | Turns the turtle counter clockwise| \n",
    "| penup()\t | None\t | Picks up the turtle’s Pen | \n",
    "| pendown()\t | None\t | Puts down the turtle’s Pen | \n",
    "| up()\t | None\t | Picks up the turtle’s Pen | \n",
    "| down()\t | None\t | Puts down the turtle’s Pen | \n",
    "| color()\t | Color name\t | Changes the color of the turtle’s pen | \n",
    "| fillcolor()\t | Color name\t | Changes the color of the turtle will use to fill a polygon | \n",
    "| heading()\t | None\t | Returns the current heading | \n",
    "| position()\t | None\t | Returns the current position | \n",
    "| goto()\t | x, y\t | Move the turtle to position x,y | \n",
    "| begin_fill()\t | None\tR | emember the starting point for a filled polygon | \n",
    "| end_fill()\t | None\t | Close the polygon and fill with the current fill color | \n",
    "| dot()\t | None\t | Leave the dot at the current position | \n",
    "| stamp()\t | None\t | Leaves an impression of a turtle shape at the current location | \n",
    "| shape()\t | shapename\t | Should be ‘arrow’, ‘classic’, ‘turtle’ or ‘circle’ | "
   ]
  },
  {
   "cell_type": "markdown",
   "metadata": {},
   "source": [
    "## <font color=\"red\">Drawing Simple Shapes</font>"
   ]
  },
  {
   "cell_type": "markdown",
   "metadata": {},
   "source": [
    "**Simple Test of Turtle**\n",
    "- Pay attention to the direction of the arrow."
   ]
  },
  {
   "cell_type": "code",
   "execution_count": null,
   "metadata": {},
   "outputs": [],
   "source": [
    "%%writefile simple_turtle.py\n",
    "import turtle\n",
    "myfig = turtle.Turtle()\n",
    "turtle.done()"
   ]
  },
  {
   "cell_type": "code",
   "execution_count": null,
   "metadata": {},
   "outputs": [],
   "source": [
    "!python simple_turtle.py"
   ]
  },
  {
   "cell_type": "markdown",
   "metadata": {},
   "source": [
    "**Single Dot**"
   ]
  },
  {
   "cell_type": "code",
   "execution_count": null,
   "metadata": {},
   "outputs": [],
   "source": [
    "%%writefile dot_turtle.py\n",
    "import turtle\n",
    "myfig = turtle.Turtle()\n",
    "myfig.dot(20)\n",
    "turtle.done()"
   ]
  },
  {
   "cell_type": "code",
   "execution_count": null,
   "metadata": {},
   "outputs": [],
   "source": [
    "!python dot_turtle.py"
   ]
  },
  {
   "cell_type": "markdown",
   "metadata": {},
   "source": [
    "**Draw a Line**"
   ]
  },
  {
   "cell_type": "code",
   "execution_count": null,
   "metadata": {},
   "outputs": [],
   "source": [
    "%%writefile line_turtle.py\n",
    "import turtle\n",
    "myfig = turtle.Turtle()\n",
    "myfig.forward(100)     # line with length 100 pixels\n",
    "turtle.done()"
   ]
  },
  {
   "cell_type": "code",
   "execution_count": null,
   "metadata": {},
   "outputs": [],
   "source": [
    "!python line_turtle.py"
   ]
  },
  {
   "cell_type": "markdown",
   "metadata": {},
   "source": [
    "**Draw two Lines**\n",
    "\n",
    "- We draw the first line.\n",
    "- We turn the arrow (left or right) by an angle.\n",
    "- We draw another line"
   ]
  },
  {
   "cell_type": "code",
   "execution_count": null,
   "metadata": {},
   "outputs": [],
   "source": [
    "%%writefile lines_turtle.py\n",
    "import turtle\n",
    "myfig = turtle.Turtle()\n",
    "myfig.forward(100)        # \n",
    "myfig.left(90)            # turn the arrow 90 degrees to the left\n",
    "myfig.forward(100)\n",
    "turtle.done()"
   ]
  },
  {
   "cell_type": "code",
   "execution_count": null,
   "metadata": {},
   "outputs": [],
   "source": [
    "!python lines_turtle.py"
   ]
  },
  {
   "cell_type": "markdown",
   "metadata": {},
   "source": [
    "**Draw a square**\n",
    "\n",
    "- Draw a line.\n",
    "- Turn the arrow left by 90 degrees\n",
    "- Draw a line\n",
    "- Turn the arrow left by 90 degrees\n",
    "- Draw a line\n",
    "- Turn the arrow left by 90 degrees\n",
    "- Draw the last line"
   ]
  },
  {
   "cell_type": "code",
   "execution_count": null,
   "metadata": {},
   "outputs": [],
   "source": [
    "%%writefile square_turtle.py\n",
    "import turtle\n",
    "myfig = turtle.Turtle()\n",
    "myfig.forward(100)         \n",
    "myfig.left(90)            \n",
    "myfig.forward(100)\n",
    "myfig.left(90)            \n",
    "myfig.forward(100)\n",
    "myfig.left(90)            \n",
    "myfig.forward(100)\n",
    "turtle.done()"
   ]
  },
  {
   "cell_type": "code",
   "execution_count": null,
   "metadata": {},
   "outputs": [],
   "source": [
    "!python square_turtle.py"
   ]
  },
  {
   "cell_type": "code",
   "execution_count": null,
   "metadata": {},
   "outputs": [],
   "source": [
    "%%writefile square2_turtle.py\n",
    "import turtle\n",
    "myfig = turtle.Turtle()\n",
    "for i in range(4):\n",
    "    myfig.forward(150)         \n",
    "    myfig.left(90)            \n",
    "\n",
    "turtle.done()"
   ]
  },
  {
   "cell_type": "code",
   "execution_count": null,
   "metadata": {},
   "outputs": [],
   "source": [
    "!python square2_turtle.py"
   ]
  },
  {
   "cell_type": "markdown",
   "metadata": {},
   "source": [
    "**Draw a Triangle**"
   ]
  },
  {
   "cell_type": "code",
   "execution_count": null,
   "metadata": {},
   "outputs": [],
   "source": [
    "%%writefile triangle_turtle.py\n",
    "import turtle\n",
    "myfig = turtle.Turtle()\n",
    "myfig.forward(200)         \n",
    "myfig.left(120)            \n",
    "myfig.forward(200)\n",
    "myfig.left(120)            \n",
    "myfig.forward(200)\n",
    "turtle.done()"
   ]
  },
  {
   "cell_type": "code",
   "execution_count": null,
   "metadata": {},
   "outputs": [],
   "source": [
    "!python triangle_turtle.py"
   ]
  },
  {
   "cell_type": "code",
   "execution_count": null,
   "metadata": {},
   "outputs": [],
   "source": [
    "%%writefile triangle2_turtle.py\n",
    "import turtle\n",
    "myfig = turtle.Turtle()\n",
    "for i in range(3):\n",
    "    myfig.forward(200)         \n",
    "    myfig.left(120)            \n",
    "\n",
    "turtle.done()"
   ]
  },
  {
   "cell_type": "code",
   "execution_count": null,
   "metadata": {},
   "outputs": [],
   "source": [
    "!python triangle2_turtle.py"
   ]
  },
  {
   "cell_type": "markdown",
   "metadata": {},
   "source": [
    "**Draw a Star**"
   ]
  },
  {
   "cell_type": "code",
   "execution_count": null,
   "metadata": {},
   "outputs": [],
   "source": [
    "%%writefile star_turtle.py\n",
    "import turtle\n",
    "myfig = turtle.Turtle()\n",
    "for i in range(5):\n",
    "    myfig.forward(200)         \n",
    "    myfig.left(144)            \n",
    "\n",
    "turtle.done()"
   ]
  },
  {
   "cell_type": "code",
   "execution_count": null,
   "metadata": {},
   "outputs": [],
   "source": [
    "!python star_turtle.py"
   ]
  },
  {
   "cell_type": "markdown",
   "metadata": {},
   "source": [
    "**Draw a Circle**"
   ]
  },
  {
   "cell_type": "code",
   "execution_count": null,
   "metadata": {},
   "outputs": [],
   "source": [
    "%%writefile circle_turtle.py\n",
    "import turtle\n",
    "myfig = turtle.Turtle()\n",
    "myfig.circle(100)          \n",
    "\n",
    "turtle.done()"
   ]
  },
  {
   "cell_type": "code",
   "execution_count": null,
   "metadata": {},
   "outputs": [],
   "source": [
    "!python circle_turtle.py"
   ]
  },
  {
   "cell_type": "markdown",
   "metadata": {},
   "source": [
    "## <font color=\"red\">Add Features</font>"
   ]
  },
  {
   "cell_type": "markdown",
   "metadata": {},
   "source": [
    "**Changing the Turtle Shape**\n",
    "\n",
    "- Square\n",
    "- Arrow\n",
    "- Circle\n",
    "- Turtle\n",
    "- Triangle\n",
    "- Classic"
   ]
  },
  {
   "cell_type": "code",
   "execution_count": null,
   "metadata": {},
   "outputs": [],
   "source": [
    "%%writefile shape_turtle.py\n",
    "import turtle\n",
    "myfig = turtle.Turtle()\n",
    "myfig.shape(\"turtle\")\n",
    "#myfig.shape(\"arrow\")\n",
    "#myfig.shape(\"circle\")         \n",
    "\n",
    "turtle.done()"
   ]
  },
  {
   "cell_type": "code",
   "execution_count": null,
   "metadata": {},
   "outputs": [],
   "source": [
    "!python shape_turtle.py"
   ]
  },
  {
   "cell_type": "markdown",
   "metadata": {},
   "source": [
    "**Background Color and Figure Title**"
   ]
  },
  {
   "cell_type": "code",
   "execution_count": null,
   "metadata": {},
   "outputs": [],
   "source": [
    "%%writefile triangle3_turtle.py\n",
    "import turtle\n",
    "\n",
    "wn = turtle.Screen()\n",
    "wn.bgcolor(\"light green\")\n",
    "wn.title(\"Drawing a Triangle\")\n",
    "\n",
    "myfig = turtle.Turtle()\n",
    "for i in range(3):\n",
    "    myfig.forward(200)         \n",
    "    myfig.left(120)            \n",
    "\n",
    "turtle.done()"
   ]
  },
  {
   "cell_type": "code",
   "execution_count": null,
   "metadata": {},
   "outputs": [],
   "source": [
    "!python triangle3_turtle.py"
   ]
  },
  {
   "cell_type": "markdown",
   "metadata": {},
   "source": [
    "**Coloring Lines**: `pencolor`"
   ]
  },
  {
   "cell_type": "code",
   "execution_count": null,
   "metadata": {},
   "outputs": [],
   "source": [
    "%%writefile triangle4_turtle.py\n",
    "import turtle\n",
    "\n",
    "wn = turtle.Screen()\n",
    "wn.bgcolor(\"light green\")\n",
    "wn.title(\"Drawing a Triangle\")\n",
    "\n",
    "myfig = turtle.Turtle()\n",
    "myfig.pen(pencolor=\"red\")\n",
    "\n",
    "for i in range(3):\n",
    "    myfig.forward(200)         \n",
    "    myfig.left(120)            \n",
    "\n",
    "turtle.done()"
   ]
  },
  {
   "cell_type": "code",
   "execution_count": null,
   "metadata": {},
   "outputs": [],
   "source": [
    "!python triangle4_turtle.py"
   ]
  },
  {
   "cell_type": "markdown",
   "metadata": {},
   "source": [
    "**Filling Color**: `fillcolor`"
   ]
  },
  {
   "cell_type": "code",
   "execution_count": null,
   "metadata": {},
   "outputs": [],
   "source": [
    "%%writefile triangle5_turtle.py\n",
    "import turtle\n",
    "\n",
    "wn = turtle.Screen()\n",
    "wn.bgcolor(\"light green\")\n",
    "wn.title(\"Drawing a Triangle\")\n",
    "\n",
    "myfig = turtle.Turtle()\n",
    "myfig.pen(pencolor=\"red\", fillcolor=\"blue\")\n",
    "\n",
    "myfig.begin_fill()\n",
    "for i in range(3):\n",
    "    myfig.forward(200)         \n",
    "    myfig.left(120)            \n",
    "myfig.end_fill()\n",
    "\n",
    "turtle.done()"
   ]
  },
  {
   "cell_type": "code",
   "execution_count": null,
   "metadata": {},
   "outputs": [],
   "source": [
    "!python triangle5_turtle.py"
   ]
  },
  {
   "cell_type": "code",
   "execution_count": null,
   "metadata": {},
   "outputs": [],
   "source": []
  },
  {
   "cell_type": "markdown",
   "metadata": {},
   "source": [
    "## <font color=\"red\">Other Shapes</font>"
   ]
  },
  {
   "cell_type": "markdown",
   "metadata": {},
   "source": [
    "**Flower**"
   ]
  },
  {
   "cell_type": "code",
   "execution_count": null,
   "metadata": {},
   "outputs": [],
   "source": [
    "%%writefile flower_turtle.py\n",
    "import turtle\n",
    "myfig = turtle.Turtle()\n",
    "\n",
    "myfig.pen(pencolor=\"red\", fillcolor=\"yellow\", speed=9)\n",
    "\n",
    "myfig.begin_fill()\n",
    "for i in range(100):\n",
    "    myfig.forward(200)         \n",
    "    myfig.left(170)            \n",
    "myfig.end_fill()\n",
    "\n",
    "turtle.done()"
   ]
  },
  {
   "cell_type": "code",
   "execution_count": null,
   "metadata": {},
   "outputs": [],
   "source": [
    "!python flower_turtle.py"
   ]
  },
  {
   "cell_type": "markdown",
   "metadata": {},
   "source": [
    "**Random Math Shape**"
   ]
  },
  {
   "cell_type": "code",
   "execution_count": null,
   "metadata": {},
   "outputs": [],
   "source": [
    "%%writefile math_turtle.py\n",
    "import math\n",
    "import turtle\n",
    "myfig = turtle.Turtle()\n",
    "\n",
    "myfig.pen(pencolor=\"red\", fillcolor=\"yellow\", speed=9)\n",
    "\n",
    "myfig.begin_fill()\n",
    "for i in range(300):\n",
    "    myfig.forward(10)\n",
    "    myfig.left(math.sin(i/10)*25)         \n",
    "    myfig.left(20)            \n",
    "myfig.end_fill()\n",
    "\n",
    "turtle.done()"
   ]
  },
  {
   "cell_type": "code",
   "execution_count": null,
   "metadata": {},
   "outputs": [],
   "source": [
    "!python math_turtle.py"
   ]
  },
  {
   "cell_type": "markdown",
   "metadata": {},
   "source": [
    "**Circles**"
   ]
  },
  {
   "cell_type": "code",
   "execution_count": null,
   "metadata": {},
   "outputs": [],
   "source": [
    "%%writefile circles_turtle.py\n",
    "import turtle\n",
    "\n",
    "wn = turtle.Screen()\n",
    "wn.bgcolor(\"light green\")\n",
    "wn.title(\"Drawing Circles\")\n",
    "myfig = turtle.Turtle()\n",
    "\n",
    "myfig.pen(pencolor=\"red\", fillcolor=\"yellow\", speed=9, pensize=2)\n",
    "\n",
    "myfig.begin_fill()\n",
    "n=10\n",
    "while n <= 100:\n",
    "      myfig.circle(n)\n",
    "      n = n + 10           \n",
    "myfig.end_fill()\n",
    "\n",
    "turtle.done()"
   ]
  },
  {
   "cell_type": "code",
   "execution_count": null,
   "metadata": {},
   "outputs": [],
   "source": [
    "!python circles_turtle.py"
   ]
  },
  {
   "cell_type": "code",
   "execution_count": null,
   "metadata": {},
   "outputs": [],
   "source": [
    "%%writefile circles2_turtle.py\n",
    "import turtle\n",
    "\n",
    "\n",
    "myfig = turtle.Turtle()\n",
    "\n",
    "myfig.pen(pencolor=\"red\", speed=10, pensize=1)\n",
    "\n",
    "for i in range(30):\n",
    "   myfig.circle(5*i)\n",
    "   myfig.circle(-5*i)\n",
    "   myfig.left(i)\n",
    "\n",
    "turtle.done()"
   ]
  },
  {
   "cell_type": "code",
   "execution_count": null,
   "metadata": {},
   "outputs": [],
   "source": [
    "!python circles2_turtle.py"
   ]
  },
  {
   "cell_type": "markdown",
   "metadata": {},
   "source": [
    "**Random Colors**"
   ]
  },
  {
   "cell_type": "code",
   "execution_count": null,
   "metadata": {},
   "outputs": [],
   "source": [
    "%%writefile colors_turtle.py\n",
    "import turtle   \n",
    "\n",
    "colors = [ \"red\", \"purple\", \"blue\", \"green\", \"orange\", \"yellow\"]\n",
    "\n",
    "my_pen = turtle.Pen()\n",
    "turtle.bgcolor(\"black\")\n",
    "my_pen.speed(10)\n",
    "for x in range(360):\n",
    "   my_pen.pencolor(colors[x % 6])\n",
    "   my_pen.width(x/100 + 1)\n",
    "   my_pen.forward(x)\n",
    "   my_pen.left(59)\n",
    "turtle.done()"
   ]
  },
  {
   "cell_type": "code",
   "execution_count": null,
   "metadata": {},
   "outputs": [],
   "source": [
    "!python colors_turtle.py"
   ]
  },
  {
   "cell_type": "markdown",
   "metadata": {},
   "source": [
    "**Jumping Around**"
   ]
  },
  {
   "cell_type": "code",
   "execution_count": null,
   "metadata": {},
   "outputs": [],
   "source": [
    "%%writefile jumping_turtle.py\n",
    "import turtle \n",
    "\n",
    "myfig = turtle.Turtle()\n",
    "\n",
    "myfig.speed(10)\n",
    "\n",
    "for i in range(180):\n",
    "    myfig.forward(100)\n",
    "    myfig.right(30)\n",
    "    myfig.forward(20)\n",
    "    myfig.left(60)\n",
    "    myfig.forward(50)\n",
    "    myfig.right(30)\n",
    "    \n",
    "    myfig.penup()\n",
    "    myfig.setposition(0, 0)\n",
    "    myfig.pendown()\n",
    "    \n",
    "    myfig.right(2)\n",
    "    \n",
    "turtle.done()"
   ]
  },
  {
   "cell_type": "code",
   "execution_count": null,
   "metadata": {},
   "outputs": [],
   "source": [
    "!python jumping_turtle.py"
   ]
  },
  {
   "cell_type": "markdown",
   "metadata": {},
   "source": [
    "**Random Shapes**"
   ]
  },
  {
   "cell_type": "code",
   "execution_count": null,
   "metadata": {},
   "outputs": [],
   "source": [
    "%%writefile rand_shape_turtle.py\n",
    "import turtle\n",
    "import random\n",
    "\n",
    "colors = [\"red\", \"blue\",\"green\", \"purple\", \"yellow\", \"orange\", \"black\"]\n",
    "\n",
    "tim = turtle.Turtle()\n",
    "tim.speed(10)\n",
    "tim.color(\"red\", \"blue\")\n",
    "\n",
    "for x in range(20):\n",
    "    randColor = random.randrange(0, len(colors))\n",
    "    rand1 = random.randrange(-300,300)\n",
    "    rand2 = random.randrange(-300,300)\n",
    "   \n",
    "    tim.color(colors[randColor], colors[random.randrange(0, len(colors))])\n",
    "\n",
    "    tim.penup()\n",
    "    tim.setpos((rand1, rand2))\n",
    "    tim.pendown()\n",
    "    \n",
    "    tim.begin_fill()\n",
    "    tim.circle(random.randrange(0,80))\n",
    "    tim.end_fill()\n",
    "\n",
    "turtle.done()"
   ]
  },
  {
   "cell_type": "code",
   "execution_count": null,
   "metadata": {},
   "outputs": [],
   "source": [
    "!python rand_shape_turtle.py"
   ]
  },
  {
   "cell_type": "markdown",
   "metadata": {},
   "source": [
    "**Spirals**"
   ]
  },
  {
   "cell_type": "code",
   "execution_count": null,
   "metadata": {},
   "outputs": [],
   "source": [
    "%%writefile spirals_turtle.py\n",
    "\n",
    "import turtle\n",
    "import math\n",
    "import random\n",
    "wn = turtle.Screen()\n",
    "wn.bgcolor('black')\n",
    "Albert = turtle.Turtle()\n",
    "Albert.speed(0)\n",
    "Albert.color('white')\n",
    "rotate=int(360)\n",
    "def drawCircles(t,size):\n",
    "    for i in range(10):\n",
    "        t.circle(size)\n",
    "        size=size-4\n",
    "def drawSpecial(t,size,repeat):\n",
    "  for i in range (repeat):\n",
    "    drawCircles(t,size)\n",
    "    t.right(360/repeat)\n",
    "drawSpecial(Albert,100,10)\n",
    "Steve = turtle.Turtle()\n",
    "Steve.speed(0)\n",
    "Steve.color('yellow')\n",
    "rotate=int(90)\n",
    "def drawCircles(t,size):\n",
    "    for i in range(4):\n",
    "        t.circle(size)\n",
    "        size=size-10\n",
    "def drawSpecial(t,size,repeat):\n",
    "    for i in range (repeat):\n",
    "        drawCircles(t,size)\n",
    "        t.right(360/repeat)\n",
    "drawSpecial(Steve,100,10)\n",
    "Barry = turtle.Turtle()\n",
    "Barry.speed(0)\n",
    "Barry.color('blue')\n",
    "rotate=int(80)\n",
    "def drawCircles(t,size):\n",
    "    for i in range(4):\n",
    "        t.circle(size)\n",
    "        size=size-5\n",
    "def drawSpecial(t,size,repeat):\n",
    "    for i in range (repeat):\n",
    "        drawCircles(t,size)\n",
    "        t.right(360/repeat)\n",
    "drawSpecial(Barry,100,10)\n",
    "Terry = turtle.Turtle()\n",
    "Terry.speed(0)\n",
    "Terry.color('orange')\n",
    "rotate=int(90)\n",
    "def drawCircles(t,size):\n",
    "    for i in range(4):\n",
    "        t.circle(size)\n",
    "        size=size-19\n",
    "def drawSpecial(t,size,repeat):\n",
    "    for i in range (repeat):\n",
    "        drawCircles(t,size)\n",
    "        t.right(360/repeat)\n",
    "drawSpecial(Terry,100,10)\n",
    "Will = turtle.Turtle()\n",
    "Will.speed(0)\n",
    "Will.color('pink')\n",
    "rotate=int(90)\n",
    "def drawCircles(t,size):\n",
    "    for i in range(4):\n",
    "        t.circle(size)\n",
    "        size=size-20\n",
    "def drawSpecial(t,size,repeat):\n",
    "    for i in range (repeat):\n",
    "        drawCircles(t,size)\n",
    "        t.right(360/repeat)\n",
    "drawSpecial(Will,100,10)\n",
    "turtle.done()"
   ]
  },
  {
   "cell_type": "code",
   "execution_count": null,
   "metadata": {},
   "outputs": [],
   "source": [
    "!python spirals_turtle.py"
   ]
  },
  {
   "cell_type": "markdown",
   "metadata": {},
   "source": [
    "## Final Words"
   ]
  },
  {
   "cell_type": "code",
   "execution_count": null,
   "metadata": {},
   "outputs": [],
   "source": [
    "%%writefile words_turtle.py\n",
    "import turtle\n",
    "\n",
    "turtle.color('deep pink')\n",
    "style = ('Courier', 50, 'italic')\n",
    "turtle.write('Thank for your participation. \\n Bye Jules!', font=style, align='center')\n",
    "turtle.hideturtle()\n",
    "turtle.done()"
   ]
  },
  {
   "cell_type": "code",
   "execution_count": null,
   "metadata": {},
   "outputs": [],
   "source": [
    "!python words_turtle.py"
   ]
  },
  {
   "cell_type": "code",
   "execution_count": null,
   "metadata": {},
   "outputs": [],
   "source": []
  }
 ],
 "metadata": {
  "kernelspec": {
   "display_name": "Python 3",
   "language": "python",
   "name": "python3"
  },
  "language_info": {
   "codemirror_mode": {
    "name": "ipython",
    "version": 3
   },
   "file_extension": ".py",
   "mimetype": "text/x-python",
   "name": "python",
   "nbconvert_exporter": "python",
   "pygments_lexer": "ipython3",
   "version": "3.7.6"
  }
 },
 "nbformat": 4,
 "nbformat_minor": 4
}
